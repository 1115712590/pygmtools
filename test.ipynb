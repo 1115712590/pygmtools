{
 "cells": [
  {
   "cell_type": "code",
   "execution_count": 1,
   "metadata": {},
   "outputs": [],
   "source": [
    "import paddle\n",
    "import pygmtools as pygm\n",
    "import numpy as np\n",
    "pygm.BACKEND = 'paddle'"
   ]
  },
  {
   "cell_type": "code",
   "execution_count": 35,
   "metadata": {},
   "outputs": [
    {
     "data": {
      "text/plain": [
       "Tensor(shape=[1], dtype=float32, place=Place(cpu), stop_gradient=True,\n",
       "       [1.])"
      ]
     },
     "execution_count": 35,
     "metadata": {},
     "output_type": "execute_result"
    }
   ],
   "source": [
    "paddle.seed(1)\n",
    "batch_size = 10\n",
    "X_gt = paddle.zeros((batch_size, 4, 4))\n",
    "X_gt[:, paddle.arange(0, 4, dtype=paddle.int64), paddle.randperm(4)] = 1\n",
    "A1 = paddle.rand((batch_size, 4, 4))\n",
    "A2 = paddle.bmm(paddle.bmm(X_gt.transpose((0, 2, 1)), A1), X_gt)\n",
    "n1 = n2 = paddle.to_tensor([4] * batch_size)\n",
    "\n",
    "\n",
    "conn1, edge1, ne1 = pygm.utils.dense_to_sparse(A1)\n",
    "conn2, edge2, ne2 = pygm.utils.dense_to_sparse(A2)\n",
    "import functools\n",
    "gaussian_aff = functools.partial(pygm.utils.gaussian_aff_fn, sigma=1.) # set affinity function\n",
    "K = pygm.utils.build_aff_mat(None, edge1, conn1, None, edge2, conn2, n1, None, n2, None, edge_aff_fn=gaussian_aff)\n",
    "\n",
    "X = pygm.ipfp(K, n1, n2)\n",
    "(pygm.hungarian(X) * X_gt).sum() / X_gt.sum()"
   ]
  }
 ],
 "metadata": {
  "kernelspec": {
   "display_name": "Python 3.9.7 ('ML')",
   "language": "python",
   "name": "python3"
  },
  "language_info": {
   "codemirror_mode": {
    "name": "ipython",
    "version": 3
   },
   "file_extension": ".py",
   "mimetype": "text/x-python",
   "name": "python",
   "nbconvert_exporter": "python",
   "pygments_lexer": "ipython3",
   "version": "3.9.7"
  },
  "orig_nbformat": 4,
  "vscode": {
   "interpreter": {
    "hash": "712078aab02776cde4a9f4a9afc393cea3823f2c3907018610aeec1eb331d661"
   }
  }
 },
 "nbformat": 4,
 "nbformat_minor": 2
}
