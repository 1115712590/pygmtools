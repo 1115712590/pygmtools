{
  "cells": [
    {
      "cell_type": "code",
      "execution_count": null,
      "metadata": {
        "collapsed": false
      },
      "outputs": [],
      "source": [
        "%matplotlib inline"
      ]
    },
    {
      "cell_type": "markdown",
      "metadata": {},
      "source": [
        "\n",
        "# Matching Image Keypoints by QAP Solvers\n",
        "\n",
        "This example shows how to match image keypoints by graph matching solvers provided by ``pygmtools``.\n",
        "These solvers follow the Quadratic Assignment Problem formulation and can generally work out-of-box.\n",
        "The matched images can be further processed for other downstream tasks.\n"
      ]
    },
    {
      "cell_type": "code",
      "execution_count": null,
      "metadata": {
        "collapsed": false
      },
      "outputs": [],
      "source": [
        "# Author: Runzhong Wang <runzhong.wang@sjtu.edu.cn>\n",
        "#         Wenzheng Pan <pwz1121@sjtu.edu.cn>\n",
        "#\n",
        "# License: Mulan PSL v2 License"
      ]
    },
    {
      "cell_type": "markdown",
      "metadata": {},
      "source": [
        "<div class=\"alert alert-info\"><h4>Note</h4><p>The following solvers support QAP formulation, and are included in this example:\n",
        "\n",
        "    * :func:`~pygmtools.classic_solvers.rrwm` (classic solver)\n",
        "\n",
        "    * :func:`~pygmtools.classic_solvers.ipfp` (classic solver)\n",
        "\n",
        "    * :func:`~pygmtools.classic_solvers.sm` (classic solver)\n",
        "\n",
        "    * :func:`~pygmtools.neural_solvers.ngm` (neural network solver)</p></div>\n",
        "\n",
        "\n"
      ]
    },
    {
      "cell_type": "code",
      "execution_count": null,
      "metadata": {
        "collapsed": false
      },
      "outputs": [],
      "source": [
        "import jittor as jt # jittor backend\n",
        "from jittor import Var, models # CV models\n",
        "import pygmtools as pygm\n",
        "import matplotlib.pyplot as plt # for plotting\n",
        "from matplotlib.patches import ConnectionPatch # for plotting matching result\n",
        "import scipy.io as sio # for loading .mat file\n",
        "import scipy.spatial as spa # for Delaunay triangulation\n",
        "from sklearn.decomposition import PCA as PCAdimReduc\n",
        "import itertools\n",
        "import numpy as np\n",
        "from PIL import Image\n",
        "pygm.BACKEND = 'jittor' # set default backend for pygmtools\n",
        "\n",
        "jt.flags.use_cuda = jt.has_cuda"
      ]
    },
    {
      "cell_type": "markdown",
      "metadata": {},
      "source": [
        "## Load the images\n",
        "Images are from the Willow Object Class dataset (this dataset also available with the Benchmark of ``pygmtools``,\n",
        "see :class:`~pygmtools.dataset.WillowObject`).\n",
        "\n",
        "The images are resized to 256x256.\n",
        "\n",
        "\n"
      ]
    },
    {
      "cell_type": "code",
      "execution_count": null,
      "metadata": {
        "collapsed": false
      },
      "outputs": [],
      "source": [
        "obj_resize = (256, 256)\n",
        "img1 = Image.open('../data/willow_duck_0001.png')\n",
        "img2 = Image.open('../data/willow_duck_0002.png')\n",
        "kpts1 = jt.Var(sio.loadmat('../data/willow_duck_0001.mat')['pts_coord'])\n",
        "kpts2 = jt.Var(sio.loadmat('../data/willow_duck_0002.mat')['pts_coord'])\n",
        "kpts1[0] = kpts1[0] * obj_resize[0] / img1.size[0]\n",
        "kpts1[1] = kpts1[1] * obj_resize[1] / img1.size[1]\n",
        "kpts2[0] = kpts2[0] * obj_resize[0] / img2.size[0]\n",
        "kpts2[1] = kpts2[1] * obj_resize[1] / img2.size[1]\n",
        "img1 = img1.resize(obj_resize, resample=Image.BILINEAR)\n",
        "img2 = img2.resize(obj_resize, resample=Image.BILINEAR)"
      ]
    },
    {
      "cell_type": "markdown",
      "metadata": {},
      "source": [
        "Visualize the images and keypoints\n",
        "\n",
        "\n"
      ]
    },
    {
      "cell_type": "code",
      "execution_count": null,
      "metadata": {
        "collapsed": false
      },
      "outputs": [],
      "source": [
        "def plot_image_with_graph(img, kpt, A=None):\n",
        "    plt.imshow(img)\n",
        "    plt.scatter(kpt[0], kpt[1], c='w', edgecolors='k')\n",
        "    if A is not None:\n",
        "        for idx in jt.nonzero(A):\n",
        "            plt.plot((kpt[0, idx[0]], kpt[0, idx[1]]), (kpt[1, idx[0]], kpt[1, idx[1]]), 'k-')\n",
        "\n",
        "plt.figure(figsize=(8, 4))\n",
        "plt.subplot(1, 2, 1)\n",
        "plt.title('Image 1')\n",
        "plot_image_with_graph(img1, kpts1)\n",
        "plt.subplot(1, 2, 2)\n",
        "plt.title('Image 2')\n",
        "plot_image_with_graph(img2, kpts2)"
      ]
    },
    {
      "cell_type": "markdown",
      "metadata": {},
      "source": [
        "## Build the graphs\n",
        "Graph structures are built based on the geometric structure of the keypoint set. In this example,\n",
        "we refer to [Delaunay triangulation](https://en.wikipedia.org/wiki/Delaunay_triangulation).\n",
        "\n",
        "\n"
      ]
    },
    {
      "cell_type": "code",
      "execution_count": null,
      "metadata": {
        "collapsed": false
      },
      "outputs": [],
      "source": [
        "def delaunay_triangulation(kpt):\n",
        "    d = spa.Delaunay(kpt.numpy().transpose())\n",
        "    A = jt.zeros((len(kpt[0]), len(kpt[0])))\n",
        "    for simplex in d.simplices:\n",
        "        for pair in itertools.permutations(simplex, 2):\n",
        "            A[pair] = 1\n",
        "    return A\n",
        "\n",
        "A1 = delaunay_triangulation(kpts1)\n",
        "A2 = delaunay_triangulation(kpts2)"
      ]
    },
    {
      "cell_type": "markdown",
      "metadata": {},
      "source": [
        "We encode the length of edges as edge features\n",
        "\n",
        "\n"
      ]
    },
    {
      "cell_type": "code",
      "execution_count": null,
      "metadata": {
        "collapsed": false
      },
      "outputs": [],
      "source": [
        "A1 = ((kpts1.unsqueeze(1) - kpts1.unsqueeze(2)) ** 2).sum(dim=0) * A1\n",
        "A1 = (A1 / A1.max()).float32()\n",
        "A2 = ((kpts2.unsqueeze(1) - kpts2.unsqueeze(2)) ** 2).sum(dim=0) * A2\n",
        "A2 = (A2 / A2.max()).float32()"
      ]
    },
    {
      "cell_type": "markdown",
      "metadata": {},
      "source": [
        "Visualize the graphs\n",
        "\n",
        "\n"
      ]
    },
    {
      "cell_type": "code",
      "execution_count": null,
      "metadata": {
        "collapsed": false
      },
      "outputs": [],
      "source": [
        "plt.figure(figsize=(8, 4))\n",
        "plt.subplot(1, 2, 1)\n",
        "plt.title('Image 1 with Graphs')\n",
        "plot_image_with_graph(img1, kpts1, A1)\n",
        "plt.subplot(1, 2, 2)\n",
        "plt.title('Image 2 with Graphs')\n",
        "plot_image_with_graph(img2, kpts2, A2)"
      ]
    },
    {
      "cell_type": "markdown",
      "metadata": {},
      "source": [
        "## Extract node features\n",
        "Let's adopt the VGG16 CNN model to extract node features.\n",
        "\n",
        "\n"
      ]
    },
    {
      "cell_type": "code",
      "execution_count": null,
      "metadata": {
        "collapsed": false
      },
      "outputs": [],
      "source": [
        "vgg16_cnn = models.vgg16_bn(True)\n",
        "jt_img1 = jt.Var(np.array(img1, dtype=np.float32) / 256).permute(2, 0, 1).unsqueeze(0) # shape: BxCxHxW\n",
        "jt_img2 = jt.Var(np.array(img2, dtype=np.float32) / 256).permute(2, 0, 1).unsqueeze(0) # shape: BxCxHxW\n",
        "with jt.no_grad():\n",
        "    feat1 = vgg16_cnn.features(jt_img1)\n",
        "    feat2 = vgg16_cnn.features(jt_img2)"
      ]
    },
    {
      "cell_type": "markdown",
      "metadata": {},
      "source": [
        "Normalize the features\n",
        "\n",
        "\n"
      ]
    },
    {
      "cell_type": "code",
      "execution_count": null,
      "metadata": {
        "collapsed": false
      },
      "outputs": [],
      "source": [
        "num_features = feat1.shape[1]\n",
        "\n",
        "def local_response_norm(input: Var, size: int, alpha: float = 1e-4, beta: float = 0.75, k: float = 1.0) -> Var:\n",
        "    dim = input.ndim\n",
        "    if dim < 3:\n",
        "        raise ValueError(\n",
        "            \"Expected 3D or higher dimensionality \\\n",
        "                         input (got {} dimensions)\".format(\n",
        "                dim\n",
        "            )\n",
        "        )\n",
        "\n",
        "    if input.numel() == 0:\n",
        "        return input\n",
        "\n",
        "    div = input.multiply(input).unsqueeze(1)\n",
        "    if dim == 3:\n",
        "        div = jt.nn.pad(div, (0, 0, size // 2, (size - 1) // 2))\n",
        "        div = jt.nn.avg_pool2d(div, (size, 1), stride=1).squeeze(1)\n",
        "    else:\n",
        "        sizes = input.size()\n",
        "        div = div.view(sizes[0], 1, sizes[1], sizes[2], -1)\n",
        "        div = jt.nn.pad(div, (0, 0, 0, 0, size // 2, (size - 1) // 2))\n",
        "        div = jt.nn.AvgPool3d((size, 1, 1), stride=1)(div).squeeze(1)\n",
        "        div = div.view(sizes)\n",
        "    div = div.multiply(alpha).add(k).pow(beta)\n",
        "    return input / div\n",
        "\n",
        "def l2norm(node_feat):\n",
        "    return local_response_norm(\n",
        "        node_feat, node_feat.shape[1] * 2, alpha=node_feat.shape[1] * 2, beta=0.5, k=0)\n",
        "\n",
        "feat1 = l2norm(feat1)\n",
        "feat2 = l2norm(feat2)"
      ]
    },
    {
      "cell_type": "markdown",
      "metadata": {},
      "source": [
        "Up-sample the features to the original image size\n",
        "\n",
        "\n"
      ]
    },
    {
      "cell_type": "code",
      "execution_count": null,
      "metadata": {
        "collapsed": false
      },
      "outputs": [],
      "source": [
        "feat1_upsample = jt.nn.interpolate(feat1, (obj_resize[1], obj_resize[0]), mode='bilinear')\n",
        "feat2_upsample = jt.nn.interpolate(feat2, (obj_resize[1], obj_resize[0]), mode='bilinear')"
      ]
    },
    {
      "cell_type": "markdown",
      "metadata": {},
      "source": [
        "Visualize the extracted CNN feature (dimensionality reduction via principle component analysis)\n",
        "\n",
        "\n"
      ]
    },
    {
      "cell_type": "code",
      "execution_count": null,
      "metadata": {
        "collapsed": false
      },
      "outputs": [],
      "source": [
        "pca_dim_reduc = PCAdimReduc(n_components=3, whiten=True)\n",
        "feat_dim_reduc = pca_dim_reduc.fit_transform(\n",
        "    np.concatenate((\n",
        "        feat1_upsample.permute(0, 2, 3, 1).reshape(-1, num_features).numpy(),\n",
        "        feat2_upsample.permute(0, 2, 3, 1).reshape(-1, num_features).numpy()\n",
        "    ), axis=0)\n",
        ")\n",
        "feat_dim_reduc = feat_dim_reduc / np.max(np.abs(feat_dim_reduc), axis=0, keepdims=True) / 2 + 0.5\n",
        "feat1_dim_reduc = feat_dim_reduc[:obj_resize[0] * obj_resize[1], :]\n",
        "feat2_dim_reduc = feat_dim_reduc[obj_resize[0] * obj_resize[1]:, :]\n",
        "\n",
        "plt.figure(figsize=(8, 4))\n",
        "plt.subplot(1, 2, 1)\n",
        "plt.title('Image 1 with CNN features')\n",
        "plot_image_with_graph(img1, kpts1, A1)\n",
        "plt.imshow(feat1_dim_reduc.reshape(obj_resize[1], obj_resize[0], 3), alpha=0.5)\n",
        "plt.subplot(1, 2, 2)\n",
        "plt.title('Image 2 with CNN features')\n",
        "plot_image_with_graph(img2, kpts2, A2)\n",
        "plt.imshow(feat2_dim_reduc.reshape(obj_resize[1], obj_resize[0], 3), alpha=0.5)"
      ]
    },
    {
      "cell_type": "markdown",
      "metadata": {},
      "source": [
        "Extract node features by nearest interpolation\n",
        "\n",
        "\n"
      ]
    },
    {
      "cell_type": "code",
      "execution_count": null,
      "metadata": {
        "collapsed": false
      },
      "outputs": [],
      "source": [
        "rounded_kpts1 = jt.round(kpts1).long()\n",
        "rounded_kpts2 = jt.round(kpts2).long()\n",
        "node1 = feat1_upsample[0, :, rounded_kpts1[1], rounded_kpts1[0]].t() # shape: NxC\n",
        "node2 = feat2_upsample[0, :, rounded_kpts2[1], rounded_kpts2[0]].t() # shape: NxC"
      ]
    },
    {
      "cell_type": "markdown",
      "metadata": {},
      "source": [
        "## Build affinity matrix\n",
        "We follow the formulation of Quadratic Assignment Problem (QAP):\n",
        "\n",
        "\\begin{align}&\\max_{\\mathbf{X}} \\ \\texttt{vec}(\\mathbf{X})^\\top \\mathbf{K} \\texttt{vec}(\\mathbf{X})\\\\\n",
        "    s.t. \\quad &\\mathbf{X} \\in \\{0, 1\\}^{n_1\\times n_2}, \\ \\mathbf{X}\\mathbf{1} = \\mathbf{1}, \\ \\mathbf{X}^\\top\\mathbf{1} \\leq \\mathbf{1}\\end{align}\n",
        "\n",
        "where the first step is to build the affinity matrix ($\\mathbf{K}$)\n",
        "\n",
        "\n"
      ]
    },
    {
      "cell_type": "code",
      "execution_count": null,
      "metadata": {
        "collapsed": false
      },
      "outputs": [],
      "source": [
        "conn1, edge1 = pygm.utils.dense_to_sparse(A1)\n",
        "conn2, edge2 = pygm.utils.dense_to_sparse(A2)\n",
        "import functools\n",
        "gaussian_aff = functools.partial(pygm.utils.gaussian_aff_fn, sigma=1) # set affinity function\n",
        "K = pygm.utils.build_aff_mat(node1, edge1, conn1, node2, edge2, conn2, edge_aff_fn=gaussian_aff)"
      ]
    },
    {
      "cell_type": "markdown",
      "metadata": {},
      "source": [
        "Visualization of the affinity matrix. For graph matching problem with $N$ nodes, the affinity matrix\n",
        "has $N^2\\times N^2$ elements because there are $N^2$ edges in each graph.\n",
        "\n",
        "<div class=\"alert alert-info\"><h4>Note</h4><p>The diagonal elements are node affinities, the off-diagonal elements are edge features.</p></div>\n",
        "\n",
        "\n"
      ]
    },
    {
      "cell_type": "code",
      "execution_count": null,
      "metadata": {
        "collapsed": false
      },
      "outputs": [],
      "source": [
        "plt.figure(figsize=(4, 4))\n",
        "plt.title(f'Affinity Matrix (size: {K.shape[0]}$\\\\times${K.shape[1]})')\n",
        "plt.imshow(K.numpy(), cmap='Blues')"
      ]
    },
    {
      "cell_type": "markdown",
      "metadata": {},
      "source": [
        "## Solve graph matching problem by RRWM solver\n",
        "See :func:`~pygmtools.classic_solvers.rrwm` for the API reference.\n",
        "\n",
        "\n"
      ]
    },
    {
      "cell_type": "code",
      "execution_count": null,
      "metadata": {
        "collapsed": false
      },
      "outputs": [],
      "source": [
        "X = pygm.rrwm(K, kpts1.shape[1], kpts2.shape[1])"
      ]
    },
    {
      "attachments": {},
      "cell_type": "markdown",
      "metadata": {},
      "source": [
        "The output of RRWM is a soft matching matrix. Hungarian algorithm is then adopted to reach a discrete matching matrix.\n",
        "\n",
        "\n"
      ]
    },
    {
      "cell_type": "code",
      "execution_count": null,
      "metadata": {
        "collapsed": false
      },
      "outputs": [],
      "source": [
        "X = pygm.hungarian(X)"
      ]
    },
    {
      "cell_type": "markdown",
      "metadata": {},
      "source": [
        "## Plot the matching\n",
        "The correct matchings are marked by green, and wrong matchings are marked by red. In this example, the nodes are\n",
        "ordered by their ground truth classes (i.e. the ground truth matching matrix is a diagonal matrix).\n",
        "\n",
        "\n"
      ]
    },
    {
      "cell_type": "code",
      "execution_count": null,
      "metadata": {
        "collapsed": false
      },
      "outputs": [],
      "source": [
        "plt.figure(figsize=(8, 4))\n",
        "plt.suptitle('Image Matching Result by RRWM')\n",
        "ax1 = plt.subplot(1, 2, 1)\n",
        "plot_image_with_graph(img1, kpts1, A1)\n",
        "ax2 = plt.subplot(1, 2, 2)\n",
        "plot_image_with_graph(img2, kpts2, A2)\n",
        "idx = jt.argmax(X, dim=1)[0]\n",
        "for i in range(X.shape[0]):\n",
        "    j = idx[i].item()\n",
        "    con = ConnectionPatch(xyA=kpts1[:, i], xyB=kpts2[:, j], coordsA=\"data\", coordsB=\"data\",\n",
        "                          axesA=ax1, axesB=ax2, color=\"red\" if i != j else \"green\")\n",
        "    plt.gca().add_artist(con)"
      ]
    },
    {
      "cell_type": "markdown",
      "metadata": {},
      "source": [
        "## Solve by other solvers\n",
        "We could also do a quick benchmarking of other solvers on this specific problem.\n",
        "\n",
        "### IPFP solver\n",
        "See :func:`~pygmtools.classic_solvers.ipfp` for the API reference.\n",
        "\n",
        "\n"
      ]
    },
    {
      "cell_type": "code",
      "execution_count": null,
      "metadata": {
        "collapsed": false
      },
      "outputs": [],
      "source": [
        "X = pygm.ipfp(K, kpts1.shape[1], kpts2.shape[1])\n",
        "\n",
        "plt.figure(figsize=(8, 4))\n",
        "plt.suptitle('Image Matching Result by IPFP')\n",
        "ax1 = plt.subplot(1, 2, 1)\n",
        "plot_image_with_graph(img1, kpts1, A1)\n",
        "ax2 = plt.subplot(1, 2, 2)\n",
        "plot_image_with_graph(img2, kpts2, A2)\n",
        "idx = jt.argmax(X, dim=1)[0]\n",
        "for i in range(X.shape[0]):\n",
        "    j = idx[i].item()\n",
        "    con = ConnectionPatch(xyA=kpts1[:, i], xyB=kpts2[:, j], coordsA=\"data\", coordsB=\"data\",\n",
        "                          axesA=ax1, axesB=ax2, color=\"red\" if i != j else \"green\")\n",
        "    plt.gca().add_artist(con)"
      ]
    },
    {
      "cell_type": "markdown",
      "metadata": {},
      "source": [
        "### SM solver\n",
        "See :func:`~pygmtools.classic_solvers.sm` for the API reference.\n",
        "\n",
        "\n"
      ]
    },
    {
      "cell_type": "code",
      "execution_count": null,
      "metadata": {
        "collapsed": false
      },
      "outputs": [],
      "source": [
        "X = pygm.sm(K, kpts1.shape[1], kpts2.shape[1])\n",
        "X = pygm.hungarian(X)\n",
        "\n",
        "plt.figure(figsize=(8, 4))\n",
        "plt.suptitle('Image Matching Result by SM')\n",
        "ax1 = plt.subplot(1, 2, 1)\n",
        "plot_image_with_graph(img1, kpts1, A1)\n",
        "ax2 = plt.subplot(1, 2, 2)\n",
        "plot_image_with_graph(img2, kpts2, A2)\n",
        "idx = jt.argmax(X, dim=1)[0]\n",
        "for i in range(X.shape[0]):\n",
        "    j = idx[i].item()\n",
        "    con = ConnectionPatch(xyA=kpts1[:, i], xyB=kpts2[:, j], coordsA=\"data\", coordsB=\"data\",\n",
        "                          axesA=ax1, axesB=ax2, color=\"red\" if i != j else \"green\")\n",
        "    plt.gca().add_artist(con)"
      ]
    },
    {
      "cell_type": "markdown",
      "metadata": {},
      "source": [
        "### NGM solver\n",
        "See :func:`~pygmtools.neural_solvers.ngm` for the API reference.\n",
        "\n",
        "<div class=\"alert alert-info\"><h4>Note</h4><p>The NGM solvers are pretrained on a different problem setting, so their performance may seem inferior.\n",
        "    To improve their performance, you may change the way of building affinity matrices, or try finetuning\n",
        "    NGM on the new problem.</p></div>\n",
        "\n",
        "The NGM solver pretrained on Willow dataset:\n",
        "\n",
        "\n"
      ]
    },
    {
      "cell_type": "code",
      "execution_count": null,
      "metadata": {
        "collapsed": false
      },
      "outputs": [],
      "source": [
        "X = pygm.ngm(K, kpts1.shape[1], kpts2.shape[1], pretrain='willow')\n",
        "X = pygm.hungarian(X)\n",
        "\n",
        "plt.figure(figsize=(8, 4))\n",
        "plt.suptitle('Image Matching Result by NGM (willow pretrain)')\n",
        "ax1 = plt.subplot(1, 2, 1)\n",
        "plot_image_with_graph(img1, kpts1, A1)\n",
        "ax2 = plt.subplot(1, 2, 2)\n",
        "plot_image_with_graph(img2, kpts2, A2)\n",
        "idx = jt.argmax(X, dim=1)[0]\n",
        "for i in range(X.shape[0]):\n",
        "    j = idx[i].item()\n",
        "    con = ConnectionPatch(xyA=kpts1[:, i], xyB=kpts2[:, j], coordsA=\"data\", coordsB=\"data\",\n",
        "                          axesA=ax1, axesB=ax2, color=\"red\" if i != j else \"green\")\n",
        "    plt.gca().add_artist(con)"
      ]
    },
    {
      "cell_type": "markdown",
      "metadata": {},
      "source": [
        "The NGM solver pretrained on VOC dataset:\n",
        "\n",
        "\n"
      ]
    },
    {
      "cell_type": "code",
      "execution_count": null,
      "metadata": {
        "collapsed": false
      },
      "outputs": [],
      "source": [
        "X = pygm.ngm(K, kpts1.shape[1], kpts2.shape[1], pretrain='voc')\n",
        "X = pygm.hungarian(X)\n",
        "\n",
        "plt.figure(figsize=(8, 4))\n",
        "plt.suptitle('Image Matching Result by NGM (voc pretrain)')\n",
        "ax1 = plt.subplot(1, 2, 1)\n",
        "plot_image_with_graph(img1, kpts1, A1)\n",
        "ax2 = plt.subplot(1, 2, 2)\n",
        "plot_image_with_graph(img2, kpts2, A2)\n",
        "idx = jt.argmax(X, dim=1)[0]\n",
        "for i in range(X.shape[0]):\n",
        "    j = idx[i].item()\n",
        "    con = ConnectionPatch(xyA=kpts1[:, i], xyB=kpts2[:, j], coordsA=\"data\", coordsB=\"data\",\n",
        "                          axesA=ax1, axesB=ax2, color=\"red\" if i != j else \"green\")\n",
        "    plt.gca().add_artist(con)"
      ]
    }
  ],
  "metadata": {
    "kernelspec": {
      "display_name": "Python 3",
      "language": "python",
      "name": "python3"
    },
    "language_info": {
      "codemirror_mode": {
        "name": "ipython",
        "version": 3
      },
      "file_extension": ".py",
      "mimetype": "text/x-python",
      "name": "python",
      "nbconvert_exporter": "python",
      "pygments_lexer": "ipython3",
      "version": "3.8.0"
    }
  },
  "nbformat": 4,
  "nbformat_minor": 0
}
