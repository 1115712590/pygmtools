{
  "cells": [
    {
      "cell_type": "code",
      "execution_count": null,
      "metadata": {
        "collapsed": false
      },
      "outputs": [],
      "source": [
        "%matplotlib inline"
      ]
    },
    {
      "attachments": {},
      "cell_type": "markdown",
      "metadata": {},
      "source": [
        "\n",
        "# Introduction: Matching Isomorphic Graphs\n",
        "\n",
        "This example is an introduction to ``pygmtools`` which shows how to match isomorphic graphs.\n",
        "Isomorphic graphs mean graphs whose structures are identical, but the node correspondence is unknown.\n"
      ]
    },
    {
      "cell_type": "code",
      "execution_count": null,
      "metadata": {
        "collapsed": false
      },
      "outputs": [],
      "source": [
        "# Author: Runzhong Wang <runzhong.wang@sjtu.edu.cn>\n",
        "#         Qi Liu <purewhite@sjtu.edu.cn>\n",
        "#\n",
        "# License: Mulan PSL v2 License"
      ]
    },
    {
      "cell_type": "markdown",
      "metadata": {},
      "source": [
        "<div class=\"alert alert-info\"><h4>Note</h4><p>The following solvers support QAP formulation, and are included in this example:\n",
        "\n",
        "    * :func:`~pygmtools.classic_solvers.rrwm` (classic solver)\n",
        "\n",
        "    * :func:`~pygmtools.classic_solvers.ipfp` (classic solver)\n",
        "\n",
        "    * :func:`~pygmtools.classic_solvers.sm` (classic solver)\n",
        "\n",
        "    * :func:`~pygmtools.neural_solvers.ngm` (neural network solver)</p></div>\n",
        "\n",
        "\n"
      ]
    },
    {
      "cell_type": "code",
      "execution_count": null,
      "metadata": {
        "collapsed": false
      },
      "outputs": [],
      "source": [
        "import numpy as np # numpy backend\n",
        "import pygmtools as pygm\n",
        "import matplotlib.pyplot as plt # for plotting\n",
        "from matplotlib.patches import ConnectionPatch # for plotting matching result\n",
        "import networkx as nx # for plotting graphs\n",
        "pygm.BACKEND = 'numpy' # set default backend for pygmtools\n",
        "np.random.seed(1) # fix random seed"
      ]
    },
    {
      "cell_type": "markdown",
      "metadata": {},
      "source": [
        "## Generate two isomorphic graphs\n",
        "\n",
        "\n"
      ]
    },
    {
      "cell_type": "code",
      "execution_count": null,
      "metadata": {
        "collapsed": false
      },
      "outputs": [],
      "source": [
        "num_nodes = 10\n",
        "X_gt = np.zeros((num_nodes, num_nodes))\n",
        "X_gt[np.arange(0, num_nodes, dtype=np.int64), np.random.permutation(num_nodes)] = 1\n",
        "A1 = np.random.rand(num_nodes, num_nodes)\n",
        "A1 = (A1 + A1.T > 1.) * (A1 + A1.T) / 2\n",
        "np.fill_diagonal(A1, 0)\n",
        "A2 = np.matmul(np.matmul(X_gt.T, A1), X_gt)\n",
        "n1 = np.array([num_nodes])\n",
        "n2 = np.array([num_nodes])"
      ]
    },
    {
      "cell_type": "markdown",
      "metadata": {},
      "source": [
        "## Visualize the graphs\n",
        "\n",
        "\n"
      ]
    },
    {
      "cell_type": "code",
      "execution_count": null,
      "metadata": {
        "collapsed": false
      },
      "outputs": [],
      "source": [
        "plt.figure(figsize=(8, 4))\n",
        "G1 = nx.from_numpy_array(A1)\n",
        "G2 = nx.from_numpy_array(A2)\n",
        "pos1 = nx.spring_layout(G1)\n",
        "pos2 = nx.spring_layout(G2)\n",
        "plt.subplot(1, 2, 1)\n",
        "plt.title('Graph 1')\n",
        "nx.draw_networkx(G1, pos=pos1)\n",
        "plt.subplot(1, 2, 2)\n",
        "plt.title('Graph 2')\n",
        "nx.draw_networkx(G2, pos=pos2)"
      ]
    },
    {
      "cell_type": "markdown",
      "metadata": {},
      "source": [
        "These two graphs look dissimilar because they are not aligned. We then align these two graphs\n",
        "by graph matching.\n",
        "\n",
        "## Build affinity matrix\n",
        "To match isomorphic graphs by graph matching, we follow the formulation of Quadratic Assignment Problem (QAP):\n",
        "\n",
        "\\begin{align}&\\max_{\\mathbf{X}} \\ \\texttt{vec}(\\mathbf{X})^\\top \\mathbf{K} \\texttt{vec}(\\mathbf{X})\\\\\n",
        "    s.t. \\quad &\\mathbf{X} \\in \\{0, 1\\}^{n_1\\times n_2}, \\ \\mathbf{X}\\mathbf{1} = \\mathbf{1}, \\ \\mathbf{X}^\\top\\mathbf{1} \\leq \\mathbf{1}\\end{align}\n",
        "\n",
        "where the first step is to build the affinity matrix ($\\mathbf{K}$)\n",
        "\n",
        "\n"
      ]
    },
    {
      "cell_type": "code",
      "execution_count": null,
      "metadata": {
        "collapsed": false
      },
      "outputs": [],
      "source": [
        "conn1, edge1 = pygm.utils.dense_to_sparse(A1)\n",
        "conn2, edge2 = pygm.utils.dense_to_sparse(A2)\n",
        "import functools\n",
        "gaussian_aff = functools.partial(pygm.utils.gaussian_aff_fn, sigma=.1) # set affinity function\n",
        "K = pygm.utils.build_aff_mat(None, edge1, conn1, None, edge2, conn2, n1, None, n2, None, edge_aff_fn=gaussian_aff)"
      ]
    },
    {
      "attachments": {},
      "cell_type": "markdown",
      "metadata": {},
      "source": [
        "Visualization of the affinity matrix. For graph matching problem with $N$ nodes, the affinity matrix\n",
        "has $N^2\\times N^2$ elements because there are $N^2$ edges in each graph.\n",
        "\n",
        "<div class=\"alert alert-info\"><h4>Note</h4><p>The diagonal elements of the affinity matrix are empty because there is no node features in this example.</p></div>\n",
        "\n",
        "\n"
      ]
    },
    {
      "cell_type": "code",
      "execution_count": null,
      "metadata": {
        "collapsed": false
      },
      "outputs": [],
      "source": [
        "plt.figure(figsize=(4, 4))\n",
        "plt.title(f'Affinity Matrix (size: {K.shape[0]}$\\\\times${K.shape[1]})')\n",
        "plt.imshow(K, cmap='Blues')"
      ]
    },
    {
      "cell_type": "markdown",
      "metadata": {},
      "source": [
        "## Solve graph matching problem by RRWM solver\n",
        "See :func:`~pygmtools.classic_solvers.rrwm` for the API reference.\n",
        "\n",
        "\n"
      ]
    },
    {
      "cell_type": "code",
      "execution_count": null,
      "metadata": {
        "collapsed": false
      },
      "outputs": [],
      "source": [
        "X = pygm.rrwm(K, n1, n2)"
      ]
    },
    {
      "cell_type": "markdown",
      "metadata": {},
      "source": [
        "The output of RRWM is a soft matching matrix. Visualization:\n",
        "\n",
        "\n"
      ]
    },
    {
      "cell_type": "code",
      "execution_count": null,
      "metadata": {
        "collapsed": false
      },
      "outputs": [],
      "source": [
        "plt.figure(figsize=(8, 4))\n",
        "plt.subplot(1, 2, 1)\n",
        "plt.title('RRWM Soft Matching Matrix')\n",
        "plt.imshow(X, cmap='Blues')\n",
        "plt.subplot(1, 2, 2)\n",
        "plt.title('Ground Truth Matching Matrix')\n",
        "plt.imshow(X_gt, cmap='Blues')"
      ]
    },
    {
      "cell_type": "markdown",
      "metadata": {},
      "source": [
        "## Get the discrete matching matrix\n",
        "Hungarian algorithm is then adopted to reach a discrete matching matrix\n",
        "\n",
        "\n"
      ]
    },
    {
      "cell_type": "code",
      "execution_count": null,
      "metadata": {
        "collapsed": false
      },
      "outputs": [],
      "source": [
        "X = pygm.hungarian(X)"
      ]
    },
    {
      "cell_type": "markdown",
      "metadata": {},
      "source": [
        "Visualization of the discrete matching matrix:\n",
        "\n",
        "\n"
      ]
    },
    {
      "cell_type": "code",
      "execution_count": null,
      "metadata": {
        "collapsed": false
      },
      "outputs": [],
      "source": [
        "plt.figure(figsize=(8, 4))\n",
        "plt.subplot(1, 2, 1)\n",
        "plt.title(f'RRWM Matching Matrix (acc={(X * X_gt).sum()/ X_gt.sum():.2f})')\n",
        "plt.imshow(X, cmap='Blues')\n",
        "plt.subplot(1, 2, 2)\n",
        "plt.title('Ground Truth Matching Matrix')\n",
        "plt.imshow(X_gt, cmap='Blues')"
      ]
    },
    {
      "cell_type": "markdown",
      "metadata": {},
      "source": [
        "## Align the original graphs\n",
        "Draw the matching (green lines for correct matching, red lines for wrong matching):\n",
        "\n",
        "\n"
      ]
    },
    {
      "cell_type": "code",
      "execution_count": null,
      "metadata": {
        "collapsed": false
      },
      "outputs": [],
      "source": [
        "plt.figure(figsize=(8, 4))\n",
        "ax1 = plt.subplot(1, 2, 1)\n",
        "plt.title('Graph 1')\n",
        "nx.draw_networkx(G1, pos=pos1)\n",
        "ax2 = plt.subplot(1, 2, 2)\n",
        "plt.title('Graph 2')\n",
        "nx.draw_networkx(G2, pos=pos2)\n",
        "for i in range(num_nodes):\n",
        "    j = np.argmax(X[i]).item()\n",
        "    con = ConnectionPatch(xyA=pos1[i], xyB=pos2[j], coordsA=\"data\", coordsB=\"data\",\n",
        "                          axesA=ax1, axesB=ax2, color=\"green\" if X_gt[i, j] else \"red\")\n",
        "    plt.gca().add_artist(con)"
      ]
    },
    {
      "cell_type": "markdown",
      "metadata": {},
      "source": [
        "Align the nodes:\n",
        "\n",
        "\n"
      ]
    },
    {
      "cell_type": "code",
      "execution_count": null,
      "metadata": {
        "collapsed": false
      },
      "outputs": [],
      "source": [
        "align_A2 = np.matmul(np.matmul(X, A2), X.T)\n",
        "plt.figure(figsize=(8, 4))\n",
        "ax1 = plt.subplot(1, 2, 1)\n",
        "plt.title('Graph 1')\n",
        "nx.draw_networkx(G1, pos=pos1)\n",
        "ax2 = plt.subplot(1, 2, 2)\n",
        "plt.title('Aligned Graph 2')\n",
        "align_pos2 = {}\n",
        "for i in range(num_nodes):\n",
        "    j = np.argmax(X[i]).item()\n",
        "    align_pos2[j] = pos1[i]\n",
        "    con = ConnectionPatch(xyA=pos1[i], xyB=align_pos2[j], coordsA=\"data\", coordsB=\"data\",\n",
        "                          axesA=ax1, axesB=ax2, color=\"green\" if X_gt[i, j] else \"red\")\n",
        "    plt.gca().add_artist(con)\n",
        "nx.draw_networkx(G2, pos=align_pos2)"
      ]
    },
    {
      "cell_type": "markdown",
      "metadata": {},
      "source": [
        "## Other solvers are also available\n",
        "\n",
        "### Classic IPFP solver\n",
        "See :func:`~pygmtools.classic_solvers.ipfp` for the API reference.\n",
        "\n",
        "\n"
      ]
    },
    {
      "cell_type": "code",
      "execution_count": null,
      "metadata": {
        "collapsed": false
      },
      "outputs": [],
      "source": [
        "X = pygm.ipfp(K, n1, n2)"
      ]
    },
    {
      "cell_type": "markdown",
      "metadata": {},
      "source": [
        "Visualization of IPFP matching result:\n",
        "\n",
        "\n"
      ]
    },
    {
      "cell_type": "code",
      "execution_count": null,
      "metadata": {
        "collapsed": false
      },
      "outputs": [],
      "source": [
        "plt.figure(figsize=(8, 4))\n",
        "plt.subplot(1, 2, 1)\n",
        "plt.title(f'IPFP Matching Matrix (acc={(X * X_gt).sum()/ X_gt.sum():.2f})')\n",
        "plt.imshow(X, cmap='Blues')\n",
        "plt.subplot(1, 2, 2)\n",
        "plt.title('Ground Truth Matching Matrix')\n",
        "plt.imshow(X_gt, cmap='Blues')"
      ]
    },
    {
      "cell_type": "markdown",
      "metadata": {},
      "source": [
        "### Classic SM solver\n",
        "See :func:`~pygmtools.classic_solvers.sm` for the API reference.\n",
        "\n",
        "\n"
      ]
    },
    {
      "cell_type": "code",
      "execution_count": null,
      "metadata": {
        "collapsed": false
      },
      "outputs": [],
      "source": [
        "X = pygm.sm(K, n1, n2)\n",
        "X = pygm.hungarian(X)"
      ]
    },
    {
      "cell_type": "markdown",
      "metadata": {},
      "source": [
        "Visualization of SM matching result:\n",
        "\n",
        "\n"
      ]
    },
    {
      "cell_type": "code",
      "execution_count": null,
      "metadata": {
        "collapsed": false
      },
      "outputs": [],
      "source": [
        "plt.figure(figsize=(8, 4))\n",
        "plt.subplot(1, 2, 1)\n",
        "plt.title(f'SM Matching Matrix (acc={(X * X_gt).sum()/ X_gt.sum():.2f})')\n",
        "plt.imshow(X, cmap='Blues')\n",
        "plt.subplot(1, 2, 2)\n",
        "plt.title('Ground Truth Matching Matrix')\n",
        "plt.imshow(X_gt, cmap='Blues')"
      ]
    },
    {
      "cell_type": "markdown",
      "metadata": {},
      "source": [
        "### NGM neural network solver\n",
        "See :func:`~pygmtools.neural_solvers.ngm` for the API reference.\n",
        "\n",
        "\n"
      ]
    },
    {
      "cell_type": "code",
      "execution_count": null,
      "metadata": {
        "collapsed": false
      },
      "outputs": [],
      "source": [
        "X = pygm.ngm(K, n1, n2, pretrain='voc')\n",
        "X = pygm.hungarian(X)"
      ]
    },
    {
      "cell_type": "markdown",
      "metadata": {},
      "source": [
        "Visualization of NGM matching result:\n",
        "\n",
        "\n"
      ]
    },
    {
      "cell_type": "code",
      "execution_count": null,
      "metadata": {
        "collapsed": false
      },
      "outputs": [],
      "source": [
        "plt.figure(figsize=(8, 4))\n",
        "plt.subplot(1, 2, 1) \n",
        "plt.title(f'NGM Matching Matrix (acc={(X * X_gt).sum()/ X_gt.sum():.2f})')\n",
        "plt.imshow(X, cmap='Blues')\n",
        "plt.subplot(1, 2, 2)\n",
        "plt.title('Ground Truth Matching Matrix')\n",
        "plt.imshow(X_gt, cmap='Blues')"
      ]
    }
  ],
  "metadata": {
    "kernelspec": {
      "display_name": "Python 3",
      "language": "python",
      "name": "python3"
    },
    "language_info": {
      "codemirror_mode": {
        "name": "ipython",
        "version": 3
      },
      "file_extension": ".py",
      "mimetype": "text/x-python",
      "name": "python",
      "nbconvert_exporter": "python",
      "pygments_lexer": "ipython3",
      "version": "3.8.0"
    }
  },
  "nbformat": 4,
  "nbformat_minor": 0
}
